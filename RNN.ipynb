{
 "cells": [
  {
   "cell_type": "code",
   "execution_count": 1,
   "metadata": {},
   "outputs": [
    {
     "name": "stderr",
     "output_type": "stream",
     "text": [
      "Using TensorFlow backend.\n"
     ]
    }
   ],
   "source": [
    "import pickle\n",
    "import pandas as pd\n",
    "import numpy as np\n",
    "import keras\n",
    "import random\n",
    "from keras import Sequential\n",
    "from keras.layers import Dense, LSTM\n",
    "from sklearn.model_selection import train_test_split"
   ]
  },
  {
   "cell_type": "code",
   "execution_count": 2,
   "metadata": {},
   "outputs": [],
   "source": [
    "def load_hurr_data():\n",
    "    filename = r'Hurricane_Datav1'\n",
    "    filehandler = open(filename, 'rb') \n",
    "    new_stuff = pickle.load(filehandler)\n",
    "    return new_stuff"
   ]
  },
  {
   "cell_type": "code",
   "execution_count": 3,
   "metadata": {},
   "outputs": [],
   "source": []
  },
  {
   "cell_type": "code",
   "execution_count": null,
   "metadata": {},
   "outputs": [],
   "source": []
  },
  {
   "cell_type": "code",
   "execution_count": 5,
   "metadata": {},
   "outputs": [],
   "source": [
    "def adjust_data(hurricanes):\n",
    "    X = hurricanes[0]\n",
    "    y = hurricanes[1]\n",
    "    y = y[:,0,:]\n",
    "    X = X.reshape(X.shape[0],5, 4)\n",
    "    data_train, data_test, labels_train, labels_test = train_test_split(X, y, test_size=0.20, random_state=42)\n",
    "\n",
    "\n",
    "    \n",
    "    \n",
    "    return data_train, data_test, labels_train, labels_test"
   ]
  },
  {
   "cell_type": "code",
   "execution_count": null,
   "metadata": {},
   "outputs": [],
   "source": [
    "hurricanes = load_hurr_data()\n",
    "X_train, X_test, y_train, y_test = adjust_data(hurricanes)"
   ]
  },
  {
   "cell_type": "code",
   "execution_count": 8,
   "metadata": {},
   "outputs": [
    {
     "name": "stdout",
     "output_type": "stream",
     "text": [
      "Model: \"sequential_2\"\n",
      "_________________________________________________________________\n",
      "Layer (type)                 Output Shape              Param #   \n",
      "=================================================================\n",
      "lstm_1 (LSTM)                (None, 5, 30)             4200      \n",
      "_________________________________________________________________\n",
      "lstm_2 (LSTM)                (None, 5, 30)             7320      \n",
      "_________________________________________________________________\n",
      "lstm_3 (LSTM)                (None, 30)                7320      \n",
      "_________________________________________________________________\n",
      "dense_1 (Dense)              (None, 4)                 124       \n",
      "=================================================================\n",
      "Total params: 18,964\n",
      "Trainable params: 18,964\n",
      "Non-trainable params: 0\n",
      "_________________________________________________________________\n"
     ]
    }
   ],
   "source": [
    "model = Sequential()\n",
    "model.add(LSTM(units=30, return_sequences= True, input_shape=(X_train.shape[1],4)))\n",
    "model.add(LSTM(units=30, return_sequences=True))\n",
    "model.add(LSTM(units=30))\n",
    "model.add(Dense(units=4))\n",
    "model.summary()"
   ]
  },
  {
   "cell_type": "code",
   "execution_count": null,
   "metadata": {},
   "outputs": [],
   "source": []
  },
  {
   "cell_type": "code",
   "execution_count": 9,
   "metadata": {},
   "outputs": [
    {
     "name": "stderr",
     "output_type": "stream",
     "text": [
      "WARNING: Logging before flag parsing goes to stderr.\n",
      "W1105 21:23:53.230217  4084 deprecation_wrapper.py:119] From C:\\Users\\tvarley\\AppData\\Local\\Continuum\\anaconda3\\lib\\site-packages\\keras\\backend\\tensorflow_backend.py:422: The name tf.global_variables is deprecated. Please use tf.compat.v1.global_variables instead.\n",
      "\n"
     ]
    },
    {
     "name": "stdout",
     "output_type": "stream",
     "text": [
      "Epoch 1/100\n",
      "11345/11345 [==============================] - 3s 233us/step - loss: 241059.1705\n",
      "Epoch 2/100\n",
      "11345/11345 [==============================] - 2s 168us/step - loss: 234477.6941\n",
      "Epoch 3/100\n",
      "11345/11345 [==============================] - 2s 169us/step - loss: 228824.4377\n",
      "Epoch 4/100\n",
      "11345/11345 [==============================] - 2s 169us/step - loss: 223447.0391\n",
      "Epoch 5/100\n",
      "11345/11345 [==============================] - 2s 165us/step - loss: 218260.0477\n",
      "Epoch 6/100\n",
      "11345/11345 [==============================] - 2s 166us/step - loss: 213219.0631\n",
      "Epoch 7/100\n",
      "11345/11345 [==============================] - 2s 168us/step - loss: 208296.0603\n",
      "Epoch 8/100\n",
      "11345/11345 [==============================] - 2s 174us/step - loss: 203469.1189\n",
      "Epoch 9/100\n",
      "11345/11345 [==============================] - 2s 179us/step - loss: 198723.0548\n",
      "Epoch 10/100\n",
      "11345/11345 [==============================] - 2s 169us/step - loss: 194049.2830\n",
      "Epoch 11/100\n",
      "11345/11345 [==============================] - 2s 167us/step - loss: 189442.4490\n",
      "Epoch 12/100\n",
      "11345/11345 [==============================] - 2s 168us/step - loss: 184899.4084\n",
      "Epoch 13/100\n",
      "11345/11345 [==============================] - 2s 169us/step - loss: 180420.1395\n",
      "Epoch 14/100\n",
      "11345/11345 [==============================] - 2s 170us/step - loss: 176000.7878\n",
      "Epoch 15/100\n",
      "11345/11345 [==============================] - 2s 168us/step - loss: 171641.6532\n",
      "Epoch 16/100\n",
      "11345/11345 [==============================] - 2s 169us/step - loss: 167342.9699\n",
      "Epoch 17/100\n",
      "11345/11345 [==============================] - 2s 168us/step - loss: 163103.4786\n",
      "Epoch 18/100\n",
      "11345/11345 [==============================] - 2s 169us/step - loss: 158923.6064\n",
      "Epoch 19/100\n",
      "11345/11345 [==============================] - 2s 173us/step - loss: 154802.5476\n",
      "Epoch 20/100\n",
      "11345/11345 [==============================] - 2s 168us/step - loss: 150740.3730\n",
      "Epoch 21/100\n",
      "11345/11345 [==============================] - 2s 170us/step - loss: 146736.9185\n",
      "Epoch 22/100\n",
      "11345/11345 [==============================] - 2s 179us/step - loss: 142791.1350\n",
      "Epoch 23/100\n",
      "11345/11345 [==============================] - 2s 176us/step - loss: 138903.5114\n",
      "Epoch 24/100\n",
      "11345/11345 [==============================] - 2s 170us/step - loss: 135073.6229\n",
      "Epoch 25/100\n",
      "11345/11345 [==============================] - 2s 183us/step - loss: 131302.3523\n",
      "Epoch 26/100\n",
      "11345/11345 [==============================] - 2s 202us/step - loss: 127589.0258\n",
      "Epoch 27/100\n",
      "11345/11345 [==============================] - 2s 199us/step - loss: 123933.4470\n",
      "Epoch 28/100\n",
      "11345/11345 [==============================] - 2s 210us/step - loss: 120336.9055\n",
      "Epoch 29/100\n",
      "11345/11345 [==============================] - 2s 212us/step - loss: 116799.0555\n",
      "Epoch 30/100\n",
      "11345/11345 [==============================] - 3s 252us/step - loss: 113317.2683\n",
      "Epoch 31/100\n",
      "11345/11345 [==============================] - 2s 220us/step - loss: 109893.2390\n",
      "Epoch 32/100\n",
      "11345/11345 [==============================] - 3s 223us/step - loss: 106527.4124\n",
      "Epoch 33/100\n",
      "11345/11345 [==============================] - 2s 218us/step - loss: 103219.0951\n",
      "Epoch 34/100\n",
      "11345/11345 [==============================] - 2s 219us/step - loss: 99968.9371\n",
      "Epoch 35/100\n",
      "11345/11345 [==============================] - 2s 215us/step - loss: 96775.8642\n",
      "Epoch 36/100\n",
      "11345/11345 [==============================] - 2s 212us/step - loss: 93640.5407\n",
      "Epoch 37/100\n",
      "11345/11345 [==============================] - 3s 222us/step - loss: 90562.8909\n",
      "Epoch 38/100\n",
      "11345/11345 [==============================] - 3s 229us/step - loss: 87541.6615\n",
      "Epoch 39/100\n",
      "11345/11345 [==============================] - 3s 225us/step - loss: 84577.8153\n",
      "Epoch 40/100\n",
      "11345/11345 [==============================] - 2s 215us/step - loss: 81671.5981\n",
      "Epoch 41/100\n",
      "11345/11345 [==============================] - 2s 212us/step - loss: 78822.2823\n",
      "Epoch 42/100\n",
      "11345/11345 [==============================] - 2s 215us/step - loss: 76030.0712\n",
      "Epoch 43/100\n",
      "11345/11345 [==============================] - 2s 210us/step - loss: 73294.5391\n",
      "Epoch 44/100\n",
      "11345/11345 [==============================] - 2s 209us/step - loss: 70615.5907\n",
      "Epoch 45/100\n",
      "11345/11345 [==============================] - 2s 216us/step - loss: 67994.5241\n",
      "Epoch 46/100\n",
      "11345/11345 [==============================] - 2s 214us/step - loss: 65429.5784\n",
      "Epoch 47/100\n",
      "11345/11345 [==============================] - 2s 207us/step - loss: 62922.0523\n",
      "Epoch 48/100\n",
      "11345/11345 [==============================] - 2s 215us/step - loss: 60471.7677\n",
      "Epoch 49/100\n",
      "11345/11345 [==============================] - 2s 208us/step - loss: 58077.6706\n",
      "Epoch 50/100\n",
      "11345/11345 [==============================] - 2s 215us/step - loss: 55740.2747\n",
      "Epoch 51/100\n",
      "11345/11345 [==============================] - 2s 207us/step - loss: 53458.3899\n",
      "Epoch 52/100\n",
      "11345/11345 [==============================] - 2s 206us/step - loss: 51233.4790\n",
      "Epoch 53/100\n",
      "11345/11345 [==============================] - 2s 206us/step - loss: 49064.9376\n",
      "Epoch 54/100\n",
      "11345/11345 [==============================] - 2s 203us/step - loss: 46953.1262\n",
      "Epoch 55/100\n",
      "11345/11345 [==============================] - 2s 200us/step - loss: 44896.6591\n",
      "Epoch 56/100\n",
      "11345/11345 [==============================] - 2s 202us/step - loss: 42896.1064\n",
      "Epoch 57/100\n",
      "11345/11345 [==============================] - 2s 202us/step - loss: 40952.3843\n",
      "Epoch 58/100\n",
      "11345/11345 [==============================] - 2s 201us/step - loss: 39063.0331\n",
      "Epoch 59/100\n",
      "11345/11345 [==============================] - 2s 201us/step - loss: 37228.7755\n",
      "Epoch 60/100\n",
      "11345/11345 [==============================] - 2s 203us/step - loss: 35450.0325\n",
      "Epoch 61/100\n",
      "11345/11345 [==============================] - 2s 200us/step - loss: 33728.0964\n",
      "Epoch 62/100\n",
      "11345/11345 [==============================] - 2s 200us/step - loss: 32060.4964\n",
      "Epoch 63/100\n",
      "11345/11345 [==============================] - 2s 208us/step - loss: 30448.1512\n",
      "Epoch 64/100\n",
      "11345/11345 [==============================] - 2s 204us/step - loss: 28890.3508\n",
      "Epoch 65/100\n",
      "11345/11345 [==============================] - 2s 200us/step - loss: 27387.4398\n",
      "Epoch 66/100\n",
      "11345/11345 [==============================] - 2s 214us/step - loss: 25939.0724\n",
      "Epoch 67/100\n",
      "11345/11345 [==============================] - 2s 207us/step - loss: 24544.1615\n",
      "Epoch 68/100\n",
      "11345/11345 [==============================] - 2s 202us/step - loss: 23203.2429\n",
      "Epoch 69/100\n",
      "11345/11345 [==============================] - 2s 198us/step - loss: 21915.7900\n",
      "Epoch 70/100\n",
      "11345/11345 [==============================] - 2s 198us/step - loss: 20681.8070\n",
      "Epoch 71/100\n",
      "11345/11345 [==============================] - 2s 196us/step - loss: 19500.6220\n",
      "Epoch 72/100\n",
      "11345/11345 [==============================] - 2s 198us/step - loss: 18372.7271\n",
      "Epoch 73/100\n",
      "11345/11345 [==============================] - 2s 206us/step - loss: 17297.9677\n",
      "Epoch 74/100\n",
      "11345/11345 [==============================] - 2s 197us/step - loss: 16276.2406\n",
      "Epoch 75/100\n",
      "11345/11345 [==============================] - 2s 197us/step - loss: 15305.5347\n",
      "Epoch 76/100\n",
      "11345/11345 [==============================] - 2s 196us/step - loss: 14386.6955\n",
      "Epoch 77/100\n",
      "11345/11345 [==============================] - 2s 208us/step - loss: 13520.1223\n",
      "Epoch 78/100\n",
      "11345/11345 [==============================] - 2s 198us/step - loss: 12702.3618\n",
      "Epoch 79/100\n",
      "11345/11345 [==============================] - 2s 197us/step - loss: 11934.6591\n",
      "Epoch 80/100\n",
      "11345/11345 [==============================] - 2s 199us/step - loss: 11216.7278\n",
      "Epoch 81/100\n",
      "11345/11345 [==============================] - 2s 200us/step - loss: 10548.0121\n",
      "Epoch 82/100\n",
      "11345/11345 [==============================] - 2s 199us/step - loss: 9928.2135\n",
      "Epoch 83/100\n",
      "11345/11345 [==============================] - 2s 198us/step - loss: 9355.9015\n",
      "Epoch 84/100\n",
      "11345/11345 [==============================] - 2s 200us/step - loss: 8830.1755\n",
      "Epoch 85/100\n",
      "11345/11345 [==============================] - 2s 202us/step - loss: 8349.4460\n",
      "Epoch 86/100\n",
      "11345/11345 [==============================] - 2s 199us/step - loss: 7914.0167\n",
      "Epoch 87/100\n",
      "11345/11345 [==============================] - 2s 198us/step - loss: 7522.1203\n",
      "Epoch 88/100\n"
     ]
    },
    {
     "name": "stdout",
     "output_type": "stream",
     "text": [
      "11345/11345 [==============================] - 2s 193us/step - loss: 7172.5905\n",
      "Epoch 89/100\n",
      "11345/11345 [==============================] - 2s 195us/step - loss: 6863.8920\n",
      "Epoch 90/100\n",
      "11345/11345 [==============================] - 2s 200us/step - loss: 6594.7750\n",
      "Epoch 91/100\n",
      "11345/11345 [==============================] - 2s 198us/step - loss: 6363.3976\n",
      "Epoch 92/100\n",
      "11345/11345 [==============================] - 2s 197us/step - loss: 6168.1550\n",
      "Epoch 93/100\n",
      "11345/11345 [==============================] - 2s 198us/step - loss: 6005.6439\n",
      "Epoch 94/100\n",
      "11345/11345 [==============================] - 2s 197us/step - loss: 5873.6462\n",
      "Epoch 95/100\n",
      "11345/11345 [==============================] - 2s 212us/step - loss: 5769.3076\n",
      "Epoch 96/100\n",
      "11345/11345 [==============================] - 2s 207us/step - loss: 5689.3634\n",
      "Epoch 97/100\n",
      "11345/11345 [==============================] - 2s 200us/step - loss: 5630.1863\n",
      "Epoch 98/100\n",
      "11345/11345 [==============================] - 2s 198us/step - loss: 5588.6592\n",
      "Epoch 99/100\n",
      "11345/11345 [==============================] - 2s 196us/step - loss: 5560.0684\n",
      "Epoch 100/100\n",
      "11345/11345 [==============================] - 2s 196us/step - loss: 5541.5244\n"
     ]
    },
    {
     "data": {
      "text/plain": [
       "<keras.callbacks.callbacks.History at 0x2380c83bb70>"
      ]
     },
     "execution_count": 9,
     "metadata": {},
     "output_type": "execute_result"
    }
   ],
   "source": [
    "model.compile(optimizer='adam', loss='mean_squared_error')\n",
    "model.fit(X_train, y_train, epochs=100, batch_size=32)"
   ]
  },
  {
   "cell_type": "code",
   "execution_count": 10,
   "metadata": {},
   "outputs": [],
   "source": [
    "predicted_value= model.predict(X_test)"
   ]
  },
  {
   "cell_type": "code",
   "execution_count": 12,
   "metadata": {},
   "outputs": [],
   "source": []
  },
  {
   "cell_type": "code",
   "execution_count": 11,
   "metadata": {},
   "outputs": [
    {
     "data": {
      "text/plain": [
       "(14182, 4)"
      ]
     },
     "execution_count": 11,
     "metadata": {},
     "output_type": "execute_result"
    }
   ],
   "source": [
    "y1.shape"
   ]
  },
  {
   "cell_type": "code",
   "execution_count": null,
   "metadata": {},
   "outputs": [],
   "source": []
  }
 ],
 "metadata": {
  "kernelspec": {
   "display_name": "Python 3",
   "language": "python",
   "name": "python3"
  }
 },
 "nbformat": 4,
 "nbformat_minor": 2
}
